{
 "cells": [
  {
   "cell_type": "code",
   "execution_count": null,
   "metadata": {},
   "outputs": [],
   "source": [
    "import pandas as pd\n",
    "import os\n",
    "from imputer import Imputer\n",
    "\n",
    "\n",
    "df=pd.read_csv(os.getcwd()+\"/data/aps_failure_training_set.csv\",na_values=\"na\",dtype=str)\n",
    "\n",
    "# transform class label to neg=1 pos=0 \n",
    "df[\"class\"]=df[\"class\"].apply(lambda x: 1 if x=='neg' else 0)\n",
    "df=df.apply(pd.to_numeric)\n",
    "\n",
    "# get percentage of NaN per column\n",
    "missingValues=df.isnull().sum()/60000\n",
    "\n",
    "# use kNN imputation to fill in missing values \n",
    "df2=[]\n",
    "impute= Imputer()\n",
    "for col in df:\n",
    "   print(col)\n",
    "   df2 = impute.knn(X=df, column=col, k=3)\n",
    "\n",
    "\n",
    "\n"
   ]
  },
  {
   "cell_type": "code",
   "execution_count": null,
   "metadata": {},
   "outputs": [],
   "source": [
    "os.getcwd()\n",
    "\n"
   ]
  },
  {
   "cell_type": "code",
   "execution_count": null,
   "metadata": {},
   "outputs": [],
   "source": []
  }
 ],
 "metadata": {
  "kernelspec": {
   "display_name": "Python 3",
   "language": "python",
   "name": "python3"
  },
  "language_info": {
   "codemirror_mode": {
    "name": "ipython",
    "version": 3
   },
   "file_extension": ".py",
   "mimetype": "text/x-python",
   "name": "python",
   "nbconvert_exporter": "python",
   "pygments_lexer": "ipython3",
   "version": "3.6.4"
  }
 },
 "nbformat": 4,
 "nbformat_minor": 2
}
