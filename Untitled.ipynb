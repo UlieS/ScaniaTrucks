import pandas as pd
import os

df=pd.read_csv(os.getcwd()+"/aps_failure_training_set.csv",dtype=str)
#print(df['ab_000'])